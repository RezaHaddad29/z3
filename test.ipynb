{
    "cells": [
        {
            "cell_type": "code",
            "execution_count": 1,
            "source": [
                "from z3 import *\r\n",
                "\r\n",
                "x = BitVec('x', 8)\r\n",
                "y = BitVec('y', 8)\r\n",
                "h = BitVec('h',8)\r\n",
                "\r\n",
                "slow = x * 2\r\n",
                "faster = x << h\r\n",
                "\r\n",
                "s = Solver()\r\n",
                "s.add(ForAll([x], slow == faster))\r\n",
                "s.check()\r\n",
                "print(s.model())"
            ],
            "outputs": [
                {
                    "output_type": "stream",
                    "name": "stdout",
                    "text": [
                        "[h = 1]\n"
                    ]
                }
            ],
            "metadata": {}
        }
    ],
    "metadata": {
        "orig_nbformat": 4,
        "language_info": {
            "name": "python",
            "version": "3.9.6",
            "mimetype": "text/x-python",
            "codemirror_mode": {
                "name": "ipython",
                "version": 3
            },
            "pygments_lexer": "ipython3",
            "nbconvert_exporter": "python",
            "file_extension": ".py"
        },
        "kernelspec": {
            "name": "python3",
            "display_name": "Python 3.9.6 64-bit"
        },
        "interpreter": {
            "hash": "0d0bc455fb1f111feac98563baf72197a64f009712bd5d436755204a8bac743f"
        }
    },
    "nbformat": 4,
    "nbformat_minor": 2
}