{
    "cells": [
        {
            "cell_type": "code",
            "execution_count": 1,
            "source": [
                "from z3 import *\r\n",
                "\r\n",
                "x = BitVec('x', 8)\r\n",
                "y = BitVec('y', 8)\r\n",
                "h = BitVec('h',8)\r\n",
                "\r\n",
                "slow = x * 2\r\n",
                "faster = x << h\r\n",
                "\r\n",
                "s = Solver()\r\n",
                "s.add(ForAll([x], slow == faster))\r\n",
                "s.check()\r\n",
                "print(s.model())"
            ],
            "outputs": [
                {
                    "output_type": "stream",
                    "name": "stdout",
                    "text": [
                        "[h = 1]\n"
                    ]
                }
            ],
            "metadata": {}
        },
        {
            "cell_type": "code",
            "execution_count": 5,
            "source": [
                "x = BitVec('x', 8)\r\n",
                "y = BitVec('y', 8)\r\n",
                "h = BitVec('h',8)\r\n",
                "h2 = BitVec('h2',8)\r\n",
                "slow = (x * 2) + 8\r\n",
                "faster = (x << h) + h2\r\n",
                "\r\n",
                "s = Solver()\r\n",
                "s.add(ForAll([x], slow == faster))\r\n",
                "s.check()\r\n",
                "print(s.model())"
            ],
            "outputs": [
                {
                    "output_type": "stream",
                    "name": "stdout",
                    "text": [
                        "[h = 1, h2 = 8]\n"
                    ]
                }
            ],
            "metadata": {}
        },
        {
            "cell_type": "code",
            "execution_count": 6,
            "source": [
                "##Triangle Puzzle\r\n",
                "\r\n",
                "from z3 import *\r\n",
                "\r\n",
                "\r\n",
                "x1 = Int('x1')\r\n",
                "x2 = Int('x2')\r\n",
                "x3 = Int('x3')\r\n",
                "x4 = Int('x4')\r\n",
                "x5 = Int('x5')\r\n",
                "x6 = Int('x6')\r\n",
                "x7 = Int('x7')\r\n",
                "x8 = Int('x8')\r\n",
                "x9 = Int('x9')\r\n",
                "\r\n",
                "s = Solver()\r\n",
                "\r\n",
                "for i in range(1,10):\r\n",
                "    s.add(eval(\"x{0} >0\".format(i)))\r\n",
                "    s.add(eval(\"x{0} <10\".format(i)))\r\n",
                "    for j in range(i,10):\r\n",
                "        if i!=j:\r\n",
                "            r = \"x{0} != x{1}\".format(i,j)\r\n",
                "            s.add(eval(r))\r\n",
                "    \r\n",
                "s.add(x1+x2+x3+x4 ==17)\r\n",
                "s.add(x4+x5+x6+x7 ==17)\r\n",
                "s.add(x7+x8+x9+x1 ==17)\r\n",
                "s.check()\r\n",
                "print(s.model())\r\n"
            ],
            "outputs": [
                {
                    "output_type": "stream",
                    "name": "stdout",
                    "text": [
                        "[x5 = 6,\n",
                        " x6 = 8,\n",
                        " x1 = 3,\n",
                        " x8 = 5,\n",
                        " x3 = 4,\n",
                        " x9 = 7,\n",
                        " x2 = 9,\n",
                        " x4 = 1,\n",
                        " x7 = 2]\n"
                    ]
                }
            ],
            "metadata": {}
        }
    ],
    "metadata": {
        "orig_nbformat": 4,
        "language_info": {
            "name": "python",
            "version": "3.9.6",
            "mimetype": "text/x-python",
            "codemirror_mode": {
                "name": "ipython",
                "version": 3
            },
            "pygments_lexer": "ipython3",
            "nbconvert_exporter": "python",
            "file_extension": ".py"
        },
        "kernelspec": {
            "name": "python3",
            "display_name": "Python 3.9.6 64-bit"
        },
        "interpreter": {
            "hash": "0d0bc455fb1f111feac98563baf72197a64f009712bd5d436755204a8bac743f"
        }
    },
    "nbformat": 4,
    "nbformat_minor": 2
}