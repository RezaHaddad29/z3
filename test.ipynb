{
    "cells": [
        {
            "cell_type": "code",
            "execution_count": 1,
            "source": [
                "## simple test: x*2 == x<<1\r\n",
                "\r\n",
                "from z3 import *\r\n",
                "\r\n",
                "x = BitVec('x', 8)\r\n",
                "y = BitVec('y', 8)\r\n",
                "h = BitVec('h',8)\r\n",
                "\r\n",
                "slow = x * 2\r\n",
                "faster = x << h\r\n",
                "\r\n",
                "s = Solver()\r\n",
                "s.add(ForAll([x], slow == faster))\r\n",
                "s.check()\r\n",
                "print(s.model())"
            ],
            "outputs": [
                {
                    "output_type": "stream",
                    "name": "stdout",
                    "text": [
                        "[h = 1]\n"
                    ]
                }
            ],
            "metadata": {}
        },
        {
            "cell_type": "code",
            "execution_count": 23,
            "source": [
                "## simple test: (x*4 + 8) == (x << 2) + 8\r\n",
                "x = BitVec('x', 8)\r\n",
                "y = BitVec('y', 8)\r\n",
                "h = BitVec('h',8)\r\n",
                "h2 = BitVec('h2',8)\r\n",
                "slow = (x * 4) + 8\r\n",
                "faster = (x << h) + h2\r\n",
                "\r\n",
                "s = Solver()\r\n",
                "s.add(ForAll([x], slow == faster))\r\n",
                "s.check()\r\n",
                "print(s.model())"
            ],
            "outputs": [
                {
                    "output_type": "stream",
                    "name": "stdout",
                    "text": [
                        "[h = 2, h2 = 8]\n"
                    ]
                }
            ],
            "metadata": {}
        },
        {
            "cell_type": "code",
            "execution_count": 6,
            "source": [
                "##Triangle Puzzle\r\n",
                "\r\n",
                "from z3 import *\r\n",
                "\r\n",
                "\r\n",
                "x1 = Int('x1')\r\n",
                "x2 = Int('x2')\r\n",
                "x3 = Int('x3')\r\n",
                "x4 = Int('x4')\r\n",
                "x5 = Int('x5')\r\n",
                "x6 = Int('x6')\r\n",
                "x7 = Int('x7')\r\n",
                "x8 = Int('x8')\r\n",
                "x9 = Int('x9')\r\n",
                "\r\n",
                "s = Solver()\r\n",
                "\r\n",
                "for i in range(1,10):\r\n",
                "    s.add(eval(\"x{0} >0\".format(i)))\r\n",
                "    s.add(eval(\"x{0} <10\".format(i)))\r\n",
                "    for j in range(i,10):\r\n",
                "        if i!=j:\r\n",
                "            r = \"x{0} != x{1}\".format(i,j)\r\n",
                "            s.add(eval(r))\r\n",
                "    \r\n",
                "s.add(x1+x2+x3+x4 ==17)\r\n",
                "s.add(x4+x5+x6+x7 ==17)\r\n",
                "s.add(x7+x8+x9+x1 ==17)\r\n",
                "s.check()\r\n",
                "print(s.model())\r\n"
            ],
            "outputs": [
                {
                    "output_type": "stream",
                    "name": "stdout",
                    "text": [
                        "[x5 = 6,\n",
                        " x6 = 8,\n",
                        " x1 = 3,\n",
                        " x8 = 5,\n",
                        " x3 = 4,\n",
                        " x9 = 7,\n",
                        " x2 = 9,\n",
                        " x4 = 1,\n",
                        " x7 = 2]\n"
                    ]
                }
            ],
            "metadata": {}
        },
        {
            "cell_type": "code",
            "execution_count": 20,
            "source": [
                "## 8 Queen Problem\r\n",
                "from z3 import *\r\n",
                "\r\n",
                "def abs_z3(a):\r\n",
                "    return If(a >= 0, a, -a)\r\n",
                "\r\n",
                "s= Solver()\r\n",
                "Cols = [Int(f\"C{i}\") for i in range(8)]\r\n",
                "Rows = [Int(f\"R{i}\") for i in range(8)]\r\n",
                "\r\n",
                "for i in range(8):\r\n",
                "    s.add(Cols[i]>=0,Cols[i]<8,Rows[i]>=0,Rows[i]<8)\r\n",
                "\r\n",
                "for i in range(7):\r\n",
                "    for j in range(i+1,8):\r\n",
                "        s.add(Cols[i] != Cols[j])\r\n",
                "        s.add(Rows[i] != Rows[j])\r\n",
                "        s.add(abs_z3(Cols[i] - Cols[j]) != abs_z3(Rows[i] - Rows[j]))\r\n",
                "\r\n",
                "\r\n",
                "s.check()\r\n",
                "m = s.model()\r\n",
                "print([(m[x].as_long(), m[y].as_long()) for x, y in zip(Cols, Rows)])"
            ],
            "outputs": [
                {
                    "output_type": "stream",
                    "name": "stdout",
                    "text": [
                        "[(0, 3), (6, 6), (7, 4), (2, 0), (5, 1), (4, 5), (3, 2), (1, 7)]\n"
                    ]
                }
            ],
            "metadata": {}
        },
        {
            "cell_type": "code",
            "execution_count": 3,
            "source": [
                "####   sudoku puzzle\r\n",
                "from z3 import *\r\n",
                "s = Solver()\r\n",
                "R = [[Int(f\"R{i}_C{j}\") for j in range(9)] for i in range(9)]\r\n",
                "\r\n",
                "for r in R:\r\n",
                "    for c in r:\r\n",
                "        s.add(c >= 1)\r\n",
                "        s.add(c <= 9)\r\n",
                "\r\n",
                "for r in R:\r\n",
                "    s.add(Distinct(r))\r\n",
                "\r\n",
                "for i in range(9):\r\n",
                "    l = []\r\n",
                "    for j in range(9):\r\n",
                "        l.append(R[j][i])\r\n",
                "    s.add(Distinct(l))\r\n",
                "\r\n",
                "for row in range(0,7,3):\r\n",
                "    for k in range(0,7,3):\r\n",
                "        box = []\r\n",
                "        for i in range(row,row+3):\r\n",
                "            for j in range(k,k+3):\r\n",
                "                box.append(R[i][j])\r\n",
                "        s.add(Distinct(box))\r\n",
                "\r\n",
                "pzl = ((0,0,0,0,9,4,0,3,0),\r\n",
                "            (0,0,0,5,1,0,0,0,7),\r\n",
                "            (0,8,9,0,0,0,0,4,0),\r\n",
                "            (0,0,0,0,0,0,2,0,8),\r\n",
                "            (0,6,0,2,0,1,0,5,0),\r\n",
                "            (1,0,2,0,0,0,0,0,0),\r\n",
                "            (0,7,0,0,0,0,5,2,0),\r\n",
                "            (9,0,0,0,6,5,0,0,0),\r\n",
                "            (0,4,0,9,7,0,0,0,0))\r\n",
                "\r\n",
                "pzl_ = [ If(pzl[i][j] == 0,\r\n",
                "                  True,\r\n",
                "                  R[i][j] == pzl[i][j])\r\n",
                "               for i in range(9) for j in range(9) ]\r\n",
                "s.add(pzl_)\r\n",
                "s.check()\r\n",
                "\r\n",
                "m = s.model()\r\n",
                "p = [ [ m.evaluate(R[i][j]) for j in range(9) ]\r\n",
                "        for i in range(9) ]\r\n",
                "print_matrix(p)"
            ],
            "outputs": [
                {
                    "output_type": "stream",
                    "name": "stdout",
                    "text": [
                        "[[7, 1, 5, 8, 9, 4, 6, 3, 2],\n",
                        " [2, 3, 4, 5, 1, 6, 8, 9, 7],\n",
                        " [6, 8, 9, 7, 2, 3, 1, 4, 5],\n",
                        " [4, 9, 3, 6, 5, 7, 2, 1, 8],\n",
                        " [8, 6, 7, 2, 3, 1, 9, 5, 4],\n",
                        " [1, 5, 2, 4, 8, 9, 7, 6, 3],\n",
                        " [3, 7, 6, 1, 4, 8, 5, 2, 9],\n",
                        " [9, 2, 8, 3, 6, 5, 4, 7, 1],\n",
                        " [5, 4, 1, 9, 7, 2, 3, 8, 6]]\n"
                    ]
                }
            ],
            "metadata": {}
        },
        {
            "cell_type": "code",
            "execution_count": 4,
            "source": [
                "## 8 Queen Problem, Approach 2\r\n",
                "from z3 import *\r\n",
                "\r\n",
                "s = Solver()\r\n",
                "\r\n",
                "Q = [Int(f'Q{i+1}') for i in range(8)]\r\n",
                "\r\n",
                "for i in range(8):\r\n",
                "    s.add(Q[i] < 9,Q[i] >=1)\r\n",
                "\r\n",
                "s.add(Distinct(Q))\r\n",
                "\r\n",
                "for i in range(8):\r\n",
                "    for j in range(i+1,8):\r\n",
                "        s.add(Q[i]-Q[j] != i-j)\r\n",
                "        s.add(Q[i]-Q[j] != j-i)\r\n",
                "\r\n",
                "s.check()\r\n",
                "\r\n",
                "print(s.model())"
            ],
            "outputs": [
                {
                    "output_type": "stream",
                    "name": "stdout",
                    "text": [
                        "[Q2 = 1,\n",
                        " Q8 = 4,\n",
                        " Q5 = 3,\n",
                        " Q6 = 7,\n",
                        " Q4 = 6,\n",
                        " Q7 = 2,\n",
                        " Q1 = 5,\n",
                        " Q3 = 8]\n"
                    ]
                }
            ],
            "metadata": {}
        },
        {
            "cell_type": "code",
            "execution_count": 1,
            "source": [
                "## Cat,Dog, Mouse Puzzle\r\n",
                "from z3 import *\r\n",
                "s = Solver()\r\n",
                "\r\n",
                "dog = Int('dog')\r\n",
                "cat = Int('cat')\r\n",
                "mouse = Int('mouse')\r\n",
                "\r\n",
                "s.add(dog>=1,cat>=1,mouse>=1)\r\n",
                "s.add(dog*1500 + cat * 100 + mouse * 25 == 10000)\r\n",
                "s.add(dog + cat + mouse == 100)\r\n",
                "\r\n",
                "s.check()\r\n",
                "print(s.model())"
            ],
            "outputs": [
                {
                    "output_type": "stream",
                    "name": "stdout",
                    "text": [
                        "[mouse = 56, cat = 41, dog = 3]\n"
                    ]
                }
            ],
            "metadata": {}
        },
        {
            "cell_type": "code",
            "execution_count": null,
            "source": [
                "## Cat,Dog, Mouse Puzzle , Approach 2\r\n",
                "from z3 import *\r\n",
                "\r\n",
                "s = Solver()\r\n",
                "\r\n",
                "Q = [Int(f'Q{i}') for i in range(100)]\r\n",
                "costs = \"\"\r\n",
                "s.add(Distinct(Q[0],Q[1],Q[2]))\r\n",
                "\r\n",
                "for i in range(100):\r\n",
                "    s.add(Or(Q[i] == 1500,Or(Q[i] == 100,Q[i] == 25)))\r\n",
                "    if(i == 99):\r\n",
                "        costs +=f\"Q[{i}] == 10000\"\r\n",
                "    else:     \r\n",
                "        costs +=f\"Q[{i}] + \"\r\n",
                "\r\n",
                "s.add(eval(costs))\r\n",
                "s.check()\r\n",
                "print(s.model())"
            ],
            "outputs": [],
            "metadata": {}
        },
        {
            "cell_type": "code",
            "execution_count": 2,
            "source": [
                "R=[None]*10\r\n",
                "R[0]=1\r\n",
                "print(R)"
            ],
            "outputs": [
                {
                    "output_type": "stream",
                    "name": "stdout",
                    "text": [
                        "[1, None, None, None, None, None, None, None, None, None]\n"
                    ]
                }
            ],
            "metadata": {}
        }
    ],
    "metadata": {
        "orig_nbformat": 4,
        "language_info": {
            "name": "python",
            "version": "3.9.6",
            "mimetype": "text/x-python",
            "codemirror_mode": {
                "name": "ipython",
                "version": 3
            },
            "pygments_lexer": "ipython3",
            "nbconvert_exporter": "python",
            "file_extension": ".py"
        },
        "kernelspec": {
            "name": "python3",
            "display_name": "Python 3.9.6 64-bit"
        },
        "interpreter": {
            "hash": "0d0bc455fb1f111feac98563baf72197a64f009712bd5d436755204a8bac743f"
        }
    },
    "nbformat": 4,
    "nbformat_minor": 2
}